{
 "cells": [
  {
   "cell_type": "code",
   "execution_count": 17,
   "id": "4fac3db4",
   "metadata": {},
   "outputs": [
    {
     "name": "stdout",
     "output_type": "stream",
     "text": [
      "⏳ 페이지 로딩 중...\n",
      "✅ 구조화 저장 완료: 서강대학교_나무위키.txt\n"
     ]
    }
   ],
   "source": [
    "from selenium import webdriver\n",
    "from selenium.webdriver.chrome.options import Options\n",
    "from bs4 import BeautifulSoup\n",
    "import os, re, time\n",
    "\n",
    "# 크롬 옵션 설정\n",
    "options = Options()\n",
    "options.add_argument(\"--headless\")\n",
    "\n",
    "driver = webdriver.Chrome(options=options)\n",
    "url = \"https://namu.wiki/w/%EC%84%9C%EA%B0%95%EB%8C%80%ED%95%99%EA%B5%90\"\n",
    "driver.get(url)\n",
    "\n",
    "print(\"⏳ 페이지 로딩 중...\")\n",
    "time.sleep(10)\n",
    "\n",
    "html = driver.page_source\n",
    "soup = BeautifulSoup(html, \"html.parser\")\n",
    "\n",
    "# 텍스트들이 들어 있는 요소들\n",
    "text_blocks = soup.select(\".M8xPxt04\")\n",
    "\n",
    "output_lines = []\n",
    "current_heading = \"\"\n",
    "\n",
    "for block in text_blocks:\n",
    "    # 텍스트 가져오기\n",
    "    text = block.get_text(strip=True)\n",
    "    if not text:\n",
    "        continue\n",
    "\n",
    "    # heading인지 확인 (간단히 볼드 여부나 길이로 추정 가능)\n",
    "    # 또는 클래스 추가 탐색 필요\n",
    "    if block.find(\"strong\"):\n",
    "        current_heading = f\"\\n\\n### {text}\\n\"\n",
    "        output_lines.append(current_heading)\n",
    "    else:\n",
    "        # 본문으로 처리\n",
    "        output_lines.append(text)\n",
    "\n",
    "# 정리해서 저장\n",
    "os.makedirs(\"documents\", exist_ok=True)\n",
    "filename = \"서강대학교_나무위키.txt\"\n",
    "with open(os.path.join(\"documents\", filename), \"w\", encoding=\"utf-8\") as f:\n",
    "    f.write(\"\\n\".join(output_lines))\n",
    "\n",
    "print(f\"✅ 구조화 저장 완료: {filename}\")\n",
    "driver.quit()\n"
   ]
  },
  {
   "cell_type": "code",
   "execution_count": 18,
   "id": "d015fbfc",
   "metadata": {},
   "outputs": [
    {
     "name": "stdout",
     "output_type": "stream",
     "text": [
      "⏳ 페이지 로딩 중...\n",
      "✅ 구조화 저장 완료: 서강대학교_역사.txt\n"
     ]
    }
   ],
   "source": [
    "from selenium import webdriver\n",
    "from selenium.webdriver.chrome.options import Options\n",
    "from bs4 import BeautifulSoup\n",
    "import os, re, time\n",
    "\n",
    "# 크롬 옵션 설정\n",
    "options = Options()\n",
    "options.add_argument(\"--headless\")\n",
    "\n",
    "driver = webdriver.Chrome(options=options)\n",
    "url = \"https://namu.wiki/w/%EC%84%9C%EA%B0%95%EB%8C%80%ED%95%99%EA%B5%90/%EC%97%AD%EC%82%AC\"\n",
    "driver.get(url)\n",
    "\n",
    "print(\"⏳ 페이지 로딩 중...\")\n",
    "time.sleep(10)\n",
    "\n",
    "html = driver.page_source\n",
    "soup = BeautifulSoup(html, \"html.parser\")\n",
    "\n",
    "# 텍스트들이 들어 있는 요소들\n",
    "text_blocks = soup.select(\".M8xPxt04\")\n",
    "\n",
    "output_lines = []\n",
    "current_heading = \"\"\n",
    "\n",
    "for block in text_blocks:\n",
    "    # 텍스트 가져오기\n",
    "    text = block.get_text(strip=True)\n",
    "    if not text:\n",
    "        continue\n",
    "\n",
    "    # heading인지 확인 (간단히 볼드 여부나 길이로 추정 가능)\n",
    "    # 또는 클래스 추가 탐색 필요\n",
    "    if block.find(\"strong\"):\n",
    "        current_heading = f\"\\n\\n### {text}\\n\"\n",
    "        output_lines.append(current_heading)\n",
    "    else:\n",
    "        # 본문으로 처리\n",
    "        output_lines.append(text)\n",
    "\n",
    "# 정리해서 저장\n",
    "os.makedirs(\"documents\", exist_ok=True)\n",
    "filename = \"서강대학교_역사.txt\"\n",
    "with open(os.path.join(\"documents\", filename), \"w\", encoding=\"utf-8\") as f:\n",
    "    f.write(\"\\n\".join(output_lines))\n",
    "\n",
    "print(f\"✅ 구조화 저장 완료: {filename}\")\n",
    "driver.quit()\n"
   ]
  }
 ],
 "metadata": {
  "kernelspec": {
   "display_name": ".venv",
   "language": "python",
   "name": "python3"
  },
  "language_info": {
   "codemirror_mode": {
    "name": "ipython",
    "version": 3
   },
   "file_extension": ".py",
   "mimetype": "text/x-python",
   "name": "python",
   "nbconvert_exporter": "python",
   "pygments_lexer": "ipython3",
   "version": "3.12.4"
  }
 },
 "nbformat": 4,
 "nbformat_minor": 5
}
